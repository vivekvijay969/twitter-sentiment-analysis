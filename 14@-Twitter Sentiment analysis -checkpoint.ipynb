{
 "cells": [
  {
   "cell_type": "markdown",
   "id": "672f571e",
   "metadata": {},
   "source": [
    "\n",
    "# Importing necessary libraries\n",
    "1. Importing pandas, numpy, matplotlib, textblob, and re libraries."
   ]
  },
  {
   "cell_type": "code",
   "execution_count": 1,
   "id": "5ce5ed99",
   "metadata": {},
   "outputs": [],
   "source": [
    "import pandas as pd\n",
    "import textblob\n",
    "import re\n",
    "import matplotlib.pyplot as plt\n",
    "import numpy as np\n",
    "%matplotlib inline"
   ]
  },
  {
   "cell_type": "markdown",
   "id": "7e00251c",
   "metadata": {},
   "source": [
    "\n",
    "# Reading, and Filtering data, and Initiating the sentiment analysis of tweets\n",
    "1. The excel file 'War Sentiment Analysis.xlsx' is converted to a dataframe using pandas.\n",
    "2. df.iloc is utilised to remove unnecessary column with NaN values.\n",
    "3. Some variables and lists were defined, which will be used to collect tweets and update tweet-counts belonging to positive, negetive and neutral tweets."
   ]
  },
  {
   "cell_type": "code",
   "execution_count": 2,
   "id": "2d2c7631",
   "metadata": {
    "scrolled": true
   },
   "outputs": [
    {
     "name": "stdout",
     "output_type": "stream",
     "text": [
      "               user_id                                              tweet  \\\n",
      "0           3031528348  @merjaya I urge you to stop contributing into ...   \n",
      "1  1225800000000000000  Russia to ban sunflower seed exports and impos...   \n",
      "2  1394360000000000000  @nathaliejacoby1 On Russia-Trump Saga in 2016 ...   \n",
      "3   982157000000000000  It turns out that people living on islands &am...   \n",
      "4            199448306  Russia Attacks Ukraine - LIVE BREAKING NEWS CO...   \n",
      "\n",
      "  language  \n",
      "0       en  \n",
      "1       en  \n",
      "2       en  \n",
      "3       en  \n",
      "4       en  \n"
     ]
    }
   ],
   "source": [
    "df=pd.read_excel(\"C:\\\\Users\\\\admin\\\\Downloads\\\\War Sentiment Analysis.xlsx\", \n",
    "                 sheet_name='Data', header=1)\n",
    "df= df.iloc[:,1:]\n",
    "df.query(\"language== 'en'\", inplace=True)\n",
    "l=[]\n",
    "positive_polarity=0\n",
    "negetive_polarity=0\n",
    "neutral_polarity=0\n",
    "no_value=0\n",
    "positive_tweets=[]\n",
    "negetive_tweets=[]\n",
    "neutral_tweets=[]\n",
    "print(df.head())"
   ]
  },
  {
   "cell_type": "markdown",
   "id": "de0ebb6b",
   "metadata": {},
   "source": [
    "\n",
    "# Sentiment Analysis\n",
    "1. A for loop is used to extract the values of each tweet from column tweet in dataframe.\n",
    "2. re.sub() function is utilised to remove unecessary characters such as '@,#...' which does not contribute towards understanding the sentiments of the tweet. These characters if found in a tweet are replaced by empty string ' ', thus, removing these characters successfully.\n",
    "3. After avoiding empty tweets following removal of special charecters, the TextBlob of each tweet is formed.\n",
    "4. The sentiment.polarity is used to find the polarity of each tweet and after added to respective list of positive, negetive or neutral polarity. The counter representing each polarity is also updated while adding the tweet to the respective lists.\n",
    "5. The percentage of positive, negetive and neutral polarity tweets is provided as output."
   ]
  },
  {
   "cell_type": "code",
   "execution_count": 3,
   "id": "32de64d8",
   "metadata": {},
   "outputs": [
    {
     "name": "stdout",
     "output_type": "stream",
     "text": [
      "Positive tweet percentage is: 41.342 %\n",
      " Negetive tweet percentage is: 26.724 %\n",
      " Neutral tweet percentage is: 31.934 %\n",
      "\n"
     ]
    }
   ],
   "source": [
    "for value in df['tweet']:\n",
    "    k=' '.join(re.sub(\"(@[A-Za-z0-9]+)|([^0-9A-Za-z \\t])|(\\w+:\\/\\/\\S+)\",\" \", value).split())\n",
    "    if len(k)!=0:\n",
    "        k=textblob.TextBlob(k)\n",
    "        if k.sentiment.polarity>0:\n",
    "            positive_polarity+=1\n",
    "            positive_tweets.append(k)\n",
    "        elif k.sentiment.polarity==0:\n",
    "            neutral_polarity+=1\n",
    "            neutral_tweets.append(k)\n",
    "        elif k.sentiment.polarity<0:\n",
    "            negetive_polarity+=1\n",
    "            negetive_tweets.append(k)\n",
    "    else:\n",
    "        pass\n",
    "sum1=positive_polarity + neutral_polarity + negetive_polarity\n",
    "p1=round((positive_polarity*100)/(sum1),3)\n",
    "p2=round((negetive_polarity*100)/(sum1),3)\n",
    "p3=round((neutral_polarity*100)/(sum1),3)\n",
    "print(\"Positive tweet percentage is:\",p1,\"%\\n\",\"Negetive tweet percentage is:\",p2,\"%\\n\",\n",
    "      \"Neutral tweet percentage is:\",p3,\"%\\n\")"
   ]
  },
  {
   "cell_type": "markdown",
   "id": "f7a60ce2",
   "metadata": {},
   "source": [
    "\n",
    "# Plotting results\n",
    "1. The percentage of positive, negetive, and neutral tweets are plotted using pyplot.pie function in the matplotlib library."
   ]
  },
  {
   "cell_type": "code",
   "execution_count": 4,
   "id": "9f4000fb",
   "metadata": {},
   "outputs": [
    {
     "data": {
      "image/png": "[encoded data removed]",
      "text/plain": [
       "<Figure size 432x288 with 1 Axes>"
      ]
     },
     "metadata": {},
     "output_type": "display_data"
    }
   ],
   "source": [
    "x=[p1,p2,p3]\n",
    "plt.pie(x,labels=['Positive tweets','Negetive tweets','Neutral tweets'],\n",
    "        autopct='%0.2f%%',explode=[0.07,0,0])\n",
    "plt.title('Sentiment Analysis Pie Chart',fontweight=\"bold\",fontsize=14)\n",
    "plt.show()"
   ]
  }
 ],
 "metadata": {
  "kernelspec": {
   "display_name": "Python 3 (ipykernel)",
   "language": "python",
   "name": "python3"
  },
  "language_info": {
   "codemirror_mode": {
    "name": "ipython",
    "version": 3
   },
   "file_extension": ".py",
   "mimetype": "text/x-python",
   "name": "python",
   "nbconvert_exporter": "python",
   "pygments_lexer": "ipython3",
   "version": "3.10.4"
  }
 },
 "nbformat": 4,
 "nbformat_minor": 5
}
